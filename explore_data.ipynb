{
 "cells": [
  {
   "cell_type": "code",
   "execution_count": null,
   "id": "7d1b87e2-1640-4908-8599-22564e14070c",
   "metadata": {},
   "outputs": [],
   "source": [
    "import pandas as pd\n",
    "import numpy as np"
   ]
  },
  {
   "cell_type": "code",
   "execution_count": null,
   "id": "8d7bd84e-6983-41a7-80a0-7463888222b5",
   "metadata": {},
   "outputs": [],
   "source": [
    "data_countries = pd.read_csv(\"data/Countries.csv\")\n",
    "data_countries"
   ]
  },
  {
   "cell_type": "code",
   "execution_count": null,
   "id": "24cbd471-a1ee-4109-87c5-5a032722daf9",
   "metadata": {},
   "outputs": [],
   "source": [
    "data_share_plastic_fate = pd.read_csv(\"data/share-plastic-fate.csv\")\n",
    "data_share_plastic_fate = data_share_plastic_fate.rename(columns={'Share of waste recycled from total regional waste': 'share_waste_recycled'})\n",
    "\n",
    "data_share_plastic_fate"
   ]
  },
  {
   "cell_type": "code",
   "execution_count": null,
   "id": "605f040a-584c-466e-9917-5f088048e766",
   "metadata": {},
   "outputs": [],
   "source": [
    "np.unique(data_countries[\"Year\"])"
   ]
  },
  {
   "cell_type": "code",
   "execution_count": null,
   "id": "8af61f35-3b5f-44e7-9751-a89f883f145a",
   "metadata": {},
   "outputs": [],
   "source": [
    "np.unique(data_share_plastic_fate[\"Year\"])"
   ]
  },
  {
   "cell_type": "code",
   "execution_count": null,
   "id": "7df24fc5-b670-499e-96e7-f5e75fed9a28",
   "metadata": {},
   "outputs": [],
   "source": [
    "np.unique(data_share_plastic_fate[\"Entity\"])"
   ]
  },
  {
   "cell_type": "code",
   "execution_count": null,
   "id": "de66651b-c919-403e-9445-d1771a399e30",
   "metadata": {},
   "outputs": [],
   "source": [
    "data_share_plastic_fate.loc[data_share_plastic_fate[\"Entity\"] == \"Americas (excl. USA)\"]"
   ]
  },
  {
   "cell_type": "code",
   "execution_count": null,
   "id": "a2b8a1c5-33a3-4293-b964-ff25bcaa6b52",
   "metadata": {},
   "outputs": [],
   "source": [
    "import seaborn as sns"
   ]
  },
  {
   "cell_type": "code",
   "execution_count": null,
   "id": "be84dc25-b040-4adc-b717-e543768cc019",
   "metadata": {},
   "outputs": [],
   "source": [
    "sns.lineplot(x = \"Year\", y = \"share_waste_recycled\", hue = \"Entity\", data = data_share_plastic_fate)"
   ]
  }
 ],
 "metadata": {
  "kernelspec": {
   "display_name": "Python 3 (ipykernel)",
   "language": "python",
   "name": "python3"
  },
  "language_info": {
   "codemirror_mode": {
    "name": "ipython",
    "version": 3
   },
   "file_extension": ".py",
   "mimetype": "text/x-python",
   "name": "python",
   "nbconvert_exporter": "python",
   "pygments_lexer": "ipython3",
   "version": "3.9.16"
  }
 },
 "nbformat": 4,
 "nbformat_minor": 5
}
