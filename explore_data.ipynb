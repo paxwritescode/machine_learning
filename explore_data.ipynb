{
 "cells": [
  {
   "cell_type": "markdown",
   "id": "228f54dc-3eeb-4bde-9cc9-f63b52606c35",
   "metadata": {},
   "source": [
    "# share_plastic_fate.csv"
   ]
  },
  {
   "cell_type": "code",
   "execution_count": null,
   "id": "7d1b87e2-1640-4908-8599-22564e14070c",
   "metadata": {},
   "outputs": [],
   "source": [
    "import pandas as pd\n",
    "import numpy as np\n",
    "from pathlib import Path"
   ]
  },
  {
   "cell_type": "code",
   "execution_count": null,
   "id": "df4aa832-7639-4b42-a8c5-33fd6c10e50b",
   "metadata": {},
   "outputs": [],
   "source": [
    "out_dir = Path(\"output\")\n",
    "out_dir.mkdir(exist_ok = True)"
   ]
  },
  {
   "cell_type": "code",
   "execution_count": null,
   "id": "8d7bd84e-6983-41a7-80a0-7463888222b5",
   "metadata": {},
   "outputs": [],
   "source": [
    "data_countries = pd.read_csv(\"data/Countries.csv\")\n",
    "data_countries"
   ]
  },
  {
   "cell_type": "code",
   "execution_count": null,
   "id": "24cbd471-a1ee-4109-87c5-5a032722daf9",
   "metadata": {},
   "outputs": [],
   "source": [
    "data_share_plastic_fate = pd.read_csv(\"data/share-plastic-fate.csv\")\n",
    "data_share_plastic_fate = data_share_plastic_fate.rename(columns={'Share of waste recycled from total regional waste': 'share_waste_recycled'})\n",
    "\n",
    "data_share_plastic_fate"
   ]
  },
  {
   "cell_type": "code",
   "execution_count": null,
   "id": "605f040a-584c-466e-9917-5f088048e766",
   "metadata": {},
   "outputs": [],
   "source": [
    "np.unique(data_countries[\"Year\"])"
   ]
  },
  {
   "cell_type": "code",
   "execution_count": null,
   "id": "8af61f35-3b5f-44e7-9751-a89f883f145a",
   "metadata": {},
   "outputs": [],
   "source": [
    "np.unique(data_share_plastic_fate[\"Year\"])"
   ]
  },
  {
   "cell_type": "code",
   "execution_count": null,
   "id": "7df24fc5-b670-499e-96e7-f5e75fed9a28",
   "metadata": {},
   "outputs": [],
   "source": [
    "np.unique(data_share_plastic_fate[\"Entity\"])"
   ]
  },
  {
   "cell_type": "code",
   "execution_count": null,
   "id": "de66651b-c919-403e-9445-d1771a399e30",
   "metadata": {},
   "outputs": [],
   "source": [
    "data_share_plastic_fate.loc[data_share_plastic_fate[\"Entity\"] == \"Americas (excl. USA)\"]"
   ]
  },
  {
   "cell_type": "code",
   "execution_count": null,
   "id": "a2b8a1c5-33a3-4293-b964-ff25bcaa6b52",
   "metadata": {},
   "outputs": [],
   "source": [
    "import seaborn as sns\n",
    "import matplotlib.pyplot as plt"
   ]
  },
  {
   "cell_type": "code",
   "execution_count": null,
   "id": "aef43920-bf5d-4e13-8a67-5d91b54f53bf",
   "metadata": {},
   "outputs": [],
   "source": [
    "data_plastic_year_shifted = data_share_plastic_fate\n",
    "data_plastic_year_shifted[\"Year\"] -= 2000\n",
    "data_plastic_year_shifted"
   ]
  },
  {
   "cell_type": "code",
   "execution_count": null,
   "id": "4c72cc2e-56be-4c94-9a0d-2e97ec62d219",
   "metadata": {},
   "outputs": [],
   "source": [
    "plt.figure()\n",
    "sns_plt = sns.lineplot(x = \"Year\", y = \"share_waste_recycled\", hue = \"Entity\", data = data_plastic_year_shifted)\n",
    "sns_plt.set_xticks(range(20))\n",
    "plt.xlabel(\"Year - 2000\")\n",
    "plt.savefig(out_dir / \"share_waste_recycled_on_year.png\")"
   ]
  },
  {
   "cell_type": "code",
   "execution_count": null,
   "id": "6e113489-c49c-4015-b069-6c2eb4254fbb",
   "metadata": {},
   "outputs": [],
   "source": [
    "per_entity_plastic_fate = data_share_plastic_fate[data_share_plastic_fate[\"Entity\"] == \"United States\"]\n",
    "line_tan, line_bias = np.polyfit(\n",
    "    x = per_entity_plastic_fate[\"Year\"],\n",
    "    y = per_entity_plastic_fate[\"share_waste_recycled\"],\n",
    "    deg = 1)\n",
    "print(f\"y={line_tan:.3f}*x+{line_bias:.3f}\")"
   ]
  },
  {
   "cell_type": "code",
   "execution_count": null,
   "id": "7fc2df86-54b0-4ff6-9dae-73451abab780",
   "metadata": {},
   "outputs": [],
   "source": [
    "dict_of_coefficients = {\"Entity\": [], \"Tan\": [], \"Bias\": []}\n",
    "for entity in np.unique(data_share_plastic_fate[\"Entity\"]):\n",
    "    per_entity_plastic_fate = data_share_plastic_fate[data_share_plastic_fate[\"Entity\"] == entity]\n",
    "    line_tan, line_bias = np.polyfit(\n",
    "    x = per_entity_plastic_fate[\"Year\"],\n",
    "    y = per_entity_plastic_fate[\"share_waste_recycled\"],\n",
    "    deg = 1)\n",
    "    dict_of_coefficients[\"Entity\"].append(entity)\n",
    "    dict_of_coefficients[\"Tan\"].append(line_tan)\n",
    "    dict_of_coefficients[\"Bias\"].append(line_bias)\n",
    "    #print(f\"{entity}: y={line_tan:.3f}*x+{line_bias:.3f}\")\n",
    "df_coefficients = pd.DataFrame(dict_of_coefficients)\n",
    "df_coefficients.to_csv(out_dir/\"coefficients.csv\")"
   ]
  },
  {
   "cell_type": "markdown",
   "id": "e11d2e52-65af-49c1-b93b-60dc809743de",
   "metadata": {},
   "source": [
    "# Countries.csv"
   ]
  },
  {
   "cell_type": "code",
   "execution_count": null,
   "id": "9f75e17e-a736-4022-8fa5-88fed944026a",
   "metadata": {},
   "outputs": [],
   "source": [
    "data_countries"
   ]
  },
  {
   "cell_type": "code",
   "execution_count": null,
   "id": "2343960c-6954-48fd-a025-969b56b402dd",
   "metadata": {},
   "outputs": [],
   "source": [
    "np.unique(data_countries[\"Continent Name\"])"
   ]
  },
  {
   "cell_type": "code",
   "execution_count": null,
   "id": "29b51c65-3fc2-4034-bd44-c7f19d389170",
   "metadata": {},
   "outputs": [],
   "source": [
    "#sns.PairGrid(data = data_countries, vars = [\"GDP\", \"Population\", \"Land\"])"
   ]
  },
  {
   "cell_type": "code",
   "execution_count": null,
   "id": "09366baa-0735-447d-8224-307d65fb85c8",
   "metadata": {},
   "outputs": [],
   "source": [
    "north_africa_countries = {  # https://en.wikipedia.org/wiki/North_Africa\n",
    "    \"Algeria\",\n",
    "    \"Egypt\",\n",
    "    \"Libya\",\n",
    "    \"Morocco\",\n",
    "    \"Sudan\",\n",
    "    \"Tunisia\",\n",
    "}\n",
    "\n",
    "middle_east_countries = {  # https://en.wikipedia.org/wiki/Middle_East (Turkey -> Turkiye, State of Palestine -> West Bank and Gaza,\n",
    "    # Yemen -> Yemen, Rep., Syria -> Syrian Arab Republic)\n",
    "    \"Akrotiri and Dhekelia\",\n",
    "    \"Bahrain\",\n",
    "    \"Cyprus\",\n",
    "    \"Egypt\",\n",
    "    \"Iran\",\n",
    "    \"Iraq\",\n",
    "    \"Israel\",\n",
    "    \"Jordan\",\n",
    "    \"Kuwait\",\n",
    "    \"Lebanon\",\n",
    "    \"Oman\",\n",
    "    \"West Bank and Gaza\",\n",
    "    \"Jordanian dinar\",\n",
    "    \"Qatar\",\n",
    "    \"Saudi Arabia\",\n",
    "    \"Syrian Arab Republic\",\n",
    "    \"Turkiye\",\n",
    "    \"United Arab Emirates\",\n",
    "    \"Yemen, Rep.\",\n",
    "}\n",
    "\n",
    "def get_entity(country_name: str, continent_name: str) -> str:\n",
    "    if country_name in (\"China\", \"India\", \"United States\"):\n",
    "        return country_name\n",
    "    if continent_name in (\"North America\", \"South America\"):\n",
    "        return \"Americas (excl. USA)\"\n",
    "    if continent_name == \"Asia\":\n",
    "        if country_name in middle_east_countries:\n",
    "            return \"Middle East & North Africa\"\n",
    "        return \"Asia (excl. China and India)\"\n",
    "    if continent_name in (\"Oceania\", \"Europe\"):\n",
    "        return continent_name\n",
    "    if continent_name == \"Africa\":\n",
    "        if country_name in north_africa_countries:\n",
    "            return \"Middle East & North Africa\"\n",
    "        return \"Sub-Saharan Africa\"\n",
    "    raise ValueError(\"unknown continent\")\n",
    "\n",
    "data_countries[\"Entity\"] = [get_entity(country_name=row[\"Country Name\"], continent_name=row[\"Continent Name\"]) for _, row in data_countries.iterrows()]\n",
    "data_countries[data_countries[\"Year\"] == 2019][[\"Country Name\", \"Continent Name\", \"Entity\"]]"
   ]
  },
  {
   "cell_type": "code",
   "execution_count": null,
   "id": "dd0333ee-3f85-4cf3-8133-b47f7bb168dd",
   "metadata": {},
   "outputs": [],
   "source": [
    "data_countries[\"Country Name\"].isin([\"Armenia\", \"Azerbaijan\", \"Georgia\", \"Kazakhstan\", \"Russian Federation\", \"Turkiye\"]) "
   ]
  },
  {
   "cell_type": "code",
   "execution_count": null,
   "id": "2ecc6fb8-17e0-4dad-aa1a-03a2ca7ad473",
   "metadata": {},
   "outputs": [],
   "source": [
    "data_countries_Europe = data_countries.loc[data_countries[\"Continent Name\"] == \"Europe\"]"
   ]
  },
  {
   "cell_type": "code",
   "execution_count": null,
   "id": "89917d3f-6079-428a-b240-1324cf7c27e9",
   "metadata": {},
   "outputs": [],
   "source": [
    "indexes_to_drop = data_countries_Europe.loc[data_countries_Europe[\"Country Name\"].isin([\"Armenia\", \"Azerbaijan\", \"Georgia\", \"Kazakhstan\", \"Russian Federation\", \"Turkiye\"]) ].index"
   ]
  },
  {
   "cell_type": "code",
   "execution_count": null,
   "id": "e3115d8d-6c04-41aa-90e0-b4038d8ee360",
   "metadata": {},
   "outputs": [],
   "source": [
    "data_countries_filtered = data_countries.drop(indexes_to_drop).reset_index()"
   ]
  },
  {
   "cell_type": "code",
   "execution_count": null,
   "id": "dcc58166-0aa2-4cbc-a284-543a1ad63dfd",
   "metadata": {},
   "outputs": [],
   "source": [
    "data_countries_filtered_Asia = data_countries_filtered.loc[data_countries_filtered[\"Continent Name\"] == \"Asia\"]\n",
    "indexes_to_drop_Cyprus = data_countries_filtered_Asia.loc[data_countries_filtered_Asia[\"Country Name\"] == \"Cyprus\"].index\n",
    "data_countries_filtered_2 = data_countries_filtered.drop(indexes_to_drop_Cyprus).reset_index()\n",
    "data_countries_filtered_3 = data_countries_filtered_2[[\"Entity\", \"Year\", \"GDP\", \"R&D\", \"Population\", \"Land\", \"Export\", \"Import\", \"Education Expenditure\", \"Health Expenditure\", \"Net Trade\"]]"
   ]
  },
  {
   "cell_type": "code",
   "execution_count": null,
   "id": "ed174356-beb9-45ce-9013-ea3e52a9fc78",
   "metadata": {},
   "outputs": [],
   "source": [
    "data_entities = data_countries_filtered_3.groupby([\"Entity\", \"Year\"]).sum().reset_index()\n",
    "data_entities"
   ]
  },
  {
   "cell_type": "code",
   "execution_count": null,
   "id": "2faeedb1-f5da-4b45-a75f-9c4a89915d92",
   "metadata": {},
   "outputs": [],
   "source": [
    "data_share_plastic_fate[\"Year\"] += 2000\n",
    "merged_df = pd.merge(data_entities, data_share_plastic_fate[[\"share_waste_recycled\", \"Entity\", \"Year\"]], on=['Entity', 'Year'])\n",
    "merged_df.to_csv(out_dir / \"data_merged.csv\")"
   ]
  }
 ],
 "metadata": {
  "kernelspec": {
   "display_name": "Python 3 (ipykernel)",
   "language": "python",
   "name": "python3"
  },
  "language_info": {
   "codemirror_mode": {
    "name": "ipython",
    "version": 3
   },
   "file_extension": ".py",
   "mimetype": "text/x-python",
   "name": "python",
   "nbconvert_exporter": "python",
   "pygments_lexer": "ipython3",
   "version": "3.9.16"
  }
 },
 "nbformat": 4,
 "nbformat_minor": 5
}
