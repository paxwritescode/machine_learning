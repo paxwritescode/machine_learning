{
 "cells": [
  {
   "cell_type": "markdown",
   "id": "228f54dc-3eeb-4bde-9cc9-f63b52606c35",
   "metadata": {},
   "source": [
    "# share_plastic_fate.csv"
   ]
  },
  {
   "cell_type": "code",
   "execution_count": null,
   "id": "7d1b87e2-1640-4908-8599-22564e14070c",
   "metadata": {},
   "outputs": [],
   "source": [
    "import pandas as pd\n",
    "import numpy as np"
   ]
  },
  {
   "cell_type": "code",
   "execution_count": null,
   "id": "8d7bd84e-6983-41a7-80a0-7463888222b5",
   "metadata": {},
   "outputs": [],
   "source": [
    "data_countries = pd.read_csv(\"data/Countries.csv\")\n",
    "data_countries"
   ]
  },
  {
   "cell_type": "code",
   "execution_count": null,
   "id": "24cbd471-a1ee-4109-87c5-5a032722daf9",
   "metadata": {},
   "outputs": [],
   "source": [
    "data_share_plastic_fate = pd.read_csv(\"data/share-plastic-fate.csv\")\n",
    "data_share_plastic_fate = data_share_plastic_fate.rename(columns={'Share of waste recycled from total regional waste': 'share_waste_recycled'})\n",
    "\n",
    "data_share_plastic_fate"
   ]
  },
  {
   "cell_type": "code",
   "execution_count": null,
   "id": "605f040a-584c-466e-9917-5f088048e766",
   "metadata": {},
   "outputs": [],
   "source": [
    "np.unique(data_countries[\"Year\"])"
   ]
  },
  {
   "cell_type": "code",
   "execution_count": null,
   "id": "8af61f35-3b5f-44e7-9751-a89f883f145a",
   "metadata": {},
   "outputs": [],
   "source": [
    "np.unique(data_share_plastic_fate[\"Year\"])"
   ]
  },
  {
   "cell_type": "code",
   "execution_count": null,
   "id": "7df24fc5-b670-499e-96e7-f5e75fed9a28",
   "metadata": {},
   "outputs": [],
   "source": [
    "np.unique(data_share_plastic_fate[\"Entity\"])"
   ]
  },
  {
   "cell_type": "code",
   "execution_count": null,
   "id": "de66651b-c919-403e-9445-d1771a399e30",
   "metadata": {},
   "outputs": [],
   "source": [
    "data_share_plastic_fate.loc[data_share_plastic_fate[\"Entity\"] == \"Americas (excl. USA)\"]"
   ]
  },
  {
   "cell_type": "code",
   "execution_count": null,
   "id": "a2b8a1c5-33a3-4293-b964-ff25bcaa6b52",
   "metadata": {},
   "outputs": [],
   "source": [
    "import seaborn as sns\n",
    "import matplotlib.pyplot as plt"
   ]
  },
  {
   "cell_type": "code",
   "execution_count": null,
   "id": "be84dc25-b040-4adc-b717-e543768cc019",
   "metadata": {},
   "outputs": [],
   "source": [
    "plt.figure()\n",
    "sns.lineplot(x = \"Year\", y = \"share_waste_recycled\", hue = \"Entity\", data = data_share_plastic_fate)\n",
    "plt.savefig(\"share_waste_recycled_on_year.png\")"
   ]
  },
  {
   "cell_type": "markdown",
   "id": "e11d2e52-65af-49c1-b93b-60dc809743de",
   "metadata": {},
   "source": [
    "# Countries.csv"
   ]
  },
  {
   "cell_type": "code",
   "execution_count": null,
   "id": "9f75e17e-a736-4022-8fa5-88fed944026a",
   "metadata": {},
   "outputs": [],
   "source": [
    "data_countries"
   ]
  },
  {
   "cell_type": "code",
   "execution_count": null,
   "id": "2343960c-6954-48fd-a025-969b56b402dd",
   "metadata": {},
   "outputs": [],
   "source": [
    "np.unique(data_countries[\"Continent Name\"])"
   ]
  },
  {
   "cell_type": "code",
   "execution_count": null,
   "id": "29b51c65-3fc2-4034-bd44-c7f19d389170",
   "metadata": {},
   "outputs": [],
   "source": [
    "#sns.PairGrid(data = data_countries, vars = [\"GDP\", \"Population\", \"Land\"])"
   ]
  },
  {
   "cell_type": "code",
   "execution_count": null,
   "id": "09366baa-0735-447d-8224-307d65fb85c8",
   "metadata": {},
   "outputs": [],
   "source": [
    "north_africa_countries = {  # https://en.wikipedia.org/wiki/North_Africa\n",
    "    \"Algeria\",\n",
    "    \"Egypt\",\n",
    "    \"Libya\",\n",
    "    \"Morocco\",\n",
    "    \"Sudan\",\n",
    "    \"Tunisia\",\n",
    "}\n",
    "\n",
    "middle_east_countries = {  # https://en.wikipedia.org/wiki/Middle_East (Turkey -> Turkiye, State of Palestine -> West Bank and Gaza,\n",
    "    # Yemen -> Yemen, Rep., Syria -> Syrian Arab Republic)\n",
    "    \"Akrotiri and Dhekelia\",\n",
    "    \"Bahrain\",\n",
    "    \"Cyprus\",\n",
    "    \"Egypt\",\n",
    "    \"Iran\",\n",
    "    \"Iraq\",\n",
    "    \"Israel\",\n",
    "    \"Jordan\",\n",
    "    \"Kuwait\",\n",
    "    \"Lebanon\",\n",
    "    \"Oman\",\n",
    "    \"West Bank and Gaza\",\n",
    "    \"Jordanian dinar\",\n",
    "    \"Qatar\",\n",
    "    \"Saudi Arabia\",\n",
    "    \"Syrian Arab Republic\",\n",
    "    \"Turkiye\",\n",
    "    \"United Arab Emirates\",\n",
    "    \"Yemen, Rep.\",\n",
    "}\n",
    "\n",
    "def get_entity(country_name: str, continent_name: str) -> str:\n",
    "    if country_name in (\"China\", \"India\", \"United States\"):\n",
    "        return country_name\n",
    "    if continent_name in (\"North America\", \"South America\"):\n",
    "        return \"Americas (excl. USA)\"\n",
    "    if continent_name == \"Asia\":\n",
    "        if country_name in middle_east_countries:\n",
    "            return \"Middle East & North Africa\"\n",
    "        return \"Asia (excl. China and India)\"\n",
    "    if continent_name in (\"Oceania\", \"Europe\"):\n",
    "        return continent_name\n",
    "    if continent_name == \"Africa\":\n",
    "        if country_name in north_africa_countries:\n",
    "            return \"Middle East & North Africa\"\n",
    "        return \"Sub-Saharan Africa\"\n",
    "    raise ValueError(\"unknown continent\")\n",
    "\n",
    "data_countries[\"Entity\"] = [get_entity(country_name=row[\"Country Name\"], continent_name=row[\"Continent Name\"]) for _, row in data_countries.iterrows()]\n",
    "data_countries[data_countries[\"Year\"] == 2019][[\"Country Name\", \"Continent Name\", \"Entity\"]]\n",
    "# TODO exclude Cyprus from Asia"
   ]
  },
  {
   "cell_type": "code",
   "execution_count": null,
   "id": "dd0333ee-3f85-4cf3-8133-b47f7bb168dd",
   "metadata": {},
   "outputs": [],
   "source": [
    "data_countries[\"Country Name\"].isin([\"Armenia\", \"Azerbaijan\", \"Georgia\", \"Kazakhstan\", \"Russian Federation\", \"Turkiye\"]) "
   ]
  },
  {
   "cell_type": "code",
   "execution_count": null,
   "id": "2ecc6fb8-17e0-4dad-aa1a-03a2ca7ad473",
   "metadata": {},
   "outputs": [],
   "source": [
    "data_countries_Europe = data_countries.loc[data_countries[\"Continent Name\"] == \"Europe\"]\n",
    "data_countries_Europe[\"Country Name\"].isin([\"Armenia\", \"Azerbaijan\", \"Georgia\", \"Kazakhstan\", \"Russian Federation\", \"Turkiye\"]) "
   ]
  },
  {
   "cell_type": "code",
   "execution_count": null,
   "id": "89917d3f-6079-428a-b240-1324cf7c27e9",
   "metadata": {},
   "outputs": [],
   "source": [
    "indexes_to_drop = data_countries_Europe.loc[data_countries_Europe[\"Country Name\"].isin([\"Armenia\", \"Azerbaijan\", \"Georgia\", \"Kazakhstan\", \"Russian Federation\", \"Turkiye\"]) ].index"
   ]
  },
  {
   "cell_type": "code",
   "execution_count": null,
   "id": "e3115d8d-6c04-41aa-90e0-b4038d8ee360",
   "metadata": {},
   "outputs": [],
   "source": [
    "data_countries_filtered = data_countries.drop(indexes_to_drop)"
   ]
  }
 ],
 "metadata": {
  "kernelspec": {
   "display_name": "Python 3 (ipykernel)",
   "language": "python",
   "name": "python3"
  },
  "language_info": {
   "codemirror_mode": {
    "name": "ipython",
    "version": 3
   },
   "file_extension": ".py",
   "mimetype": "text/x-python",
   "name": "python",
   "nbconvert_exporter": "python",
   "pygments_lexer": "ipython3",
   "version": "3.9.16"
  }
 },
 "nbformat": 4,
 "nbformat_minor": 5
}
