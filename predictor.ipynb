{
 "cells": [
  {
   "cell_type": "code",
   "execution_count": null,
   "id": "04038d1a-9465-4665-8963-26f2e5e33743",
   "metadata": {},
   "outputs": [],
   "source": [
    "import pandas as pd\n",
    "import seaborn as sns\n",
    "import matplotlib.pyplot as plt\n",
    "from pathlib import Path\n",
    "import numpy as np\n",
    "from sklearn.decomposition import PCA\n",
    "from sklearn.linear_model import LinearRegression"
   ]
  },
  {
   "cell_type": "code",
   "execution_count": null,
   "id": "e577fdca-0d3f-4741-9905-d327f0652c96",
   "metadata": {},
   "outputs": [],
   "source": [
    "out_dir = Path(\"output\")\n",
    "out_dir.exists()"
   ]
  },
  {
   "cell_type": "code",
   "execution_count": null,
   "id": "337731cd-ae8d-4d9b-9c25-9cb0f8fbb2b4",
   "metadata": {},
   "outputs": [],
   "source": [
    "data = pd.read_csv(out_dir / \"data_merged.csv\")\n",
    "len(np.unique(data[\"Entity\"]))"
   ]
  },
  {
   "cell_type": "code",
   "execution_count": null,
   "id": "37ad9b0e-a95e-4cfc-99dd-7923160b1def",
   "metadata": {},
   "outputs": [],
   "source": [
    "data_max = data.groupby(\"Entity\").max().reset_index()\n",
    "data_max"
   ]
  },
  {
   "cell_type": "code",
   "execution_count": null,
   "id": "e08475e0-d90e-49a2-b71d-35d9782ba4f2",
   "metadata": {},
   "outputs": [],
   "source": [
    "data_max[[\"Population\", \"GDP\"]]"
   ]
  },
  {
   "cell_type": "code",
   "execution_count": null,
   "id": "70b0bcb4-fbdb-4577-a1ac-fde735ef9932",
   "metadata": {},
   "outputs": [],
   "source": [
    "g1 = sns.PairGrid(data_max, vars = [\"Export\", \"Import\", \"Net Trade\", \"GDP\", \"Population\"])\n",
    "g1.map_diag(sns.histplot)\n",
    "g1.map_offdiag(sns.scatterplot)"
   ]
  },
  {
   "cell_type": "markdown",
   "id": "5c5ce0c8-3fc1-4f61-a9a9-ff1fdf830188",
   "metadata": {},
   "source": [
    "export and import are correlated"
   ]
  },
  {
   "cell_type": "code",
   "execution_count": null,
   "id": "9d967a6c-717d-4bf1-b508-f266961e89c1",
   "metadata": {},
   "outputs": [],
   "source": [
    "g2 = sns.PairGrid(data_max, vars = [\"Education Expenditure\", \"Health Expenditure\",  \"R&D\", \"GDP\"])\n",
    "g2.map_diag(sns.histplot)\n",
    "g2.map_offdiag(sns.scatterplot)"
   ]
  },
  {
   "cell_type": "code",
   "execution_count": null,
   "id": "a7f4dde1-901c-4275-b4f9-d2a255490893",
   "metadata": {},
   "outputs": [],
   "source": [
    "feature_names = [\"GDP\", \"R&D\", \"Population\", \"Land\", \"Export\", \"Education Expenditure\", \"Health Expenditure\", \"Net Trade\"]\n",
    "df_of_features = data_max[feature_names]\n",
    "means = df_of_features.mean()\n",
    "sds = df_of_features.std()\n",
    "normalized_features = (df_of_features - means)/sds\n",
    "\n",
    "pd.DataFrame({\"mean\": means, \"sd\": sds}).to_csv(out_dir/\"features_mean_sd.csv\")"
   ]
  },
  {
   "cell_type": "code",
   "execution_count": null,
   "id": "374d75f8-a8f6-4f52-b2ee-ac523f7f8418",
   "metadata": {},
   "outputs": [],
   "source": [
    "pip install -U scikit-learn"
   ]
  },
  {
   "cell_type": "code",
   "execution_count": null,
   "id": "480eba9c-e7f2-4aaf-ac72-00d0dc44d79e",
   "metadata": {},
   "outputs": [],
   "source": [
    "array_of_normalized_features = np.array(normalized_features)\n",
    "pca = PCA(n_components=2)\n",
    "pca.fit(array_of_normalized_features.T)\n",
    "print(pca.explained_variance_ratio_)\n",
    "print(pca.singular_values_)"
   ]
  },
  {
   "cell_type": "code",
   "execution_count": null,
   "id": "68d48dd6-fe78-4eed-a199-36f58e0c7056",
   "metadata": {},
   "outputs": [],
   "source": [
    "array_of_normalized_features.T"
   ]
  },
  {
   "cell_type": "code",
   "execution_count": null,
   "id": "72930da9-c64d-4a2a-9511-9c7ec9ea6120",
   "metadata": {},
   "outputs": [],
   "source": [
    "pca.components_"
   ]
  },
  {
   "cell_type": "code",
   "execution_count": null,
   "id": "767b3984-9754-4560-8d55-803ad89173b8",
   "metadata": {},
   "outputs": [],
   "source": [
    "_, ax = plt.subplots()\n",
    "plt.scatter(pca.components_[0], pca.components_[1])\n",
    "for i, txt in enumerate(data_max[\"Entity\"]):\n",
    "    ax.annotate(txt, (pca.components_[0][i] + 0.01, pca.components_[1][i] + 0.01))\n",
    "plt.savefig(out_dir / \"principal_components.png\")\n",
    "plt.tight_layout()\n",
    "#TODO more beautiful annotations"
   ]
  },
  {
   "cell_type": "code",
   "execution_count": null,
   "id": "7401e673-76fa-4871-bce0-2cacc677f10f",
   "metadata": {},
   "outputs": [],
   "source": [
    "df_coefficients = pd.read_csv(out_dir / \"coefficients.csv\")\n",
    "del df_coefficients[\"Unnamed: 0\"]\n",
    "df_coefficients1 = df_coefficients.drop(labels = [9], axis = 0)\n",
    "df_coefficients1"
   ]
  },
  {
   "cell_type": "code",
   "execution_count": null,
   "id": "4bbd62d5-e984-4356-b930-b3afe084cbf5",
   "metadata": {},
   "outputs": [],
   "source": [
    "fig1 = plt.figure()\n",
    "ax = fig1.add_subplot(111, projection = \"3d\")\n",
    "ax.scatter(pca.components_[0], pca.components_[1], df_coefficients1[\"Tan\"])\n",
    "plt.savefig(out_dir / \"tangent_on_principal_components.png\")"
   ]
  },
  {
   "cell_type": "code",
   "execution_count": null,
   "id": "f41d0bc5-5ec7-4326-a6d0-55515fafe4a6",
   "metadata": {},
   "outputs": [],
   "source": [
    "fig2 = plt.figure()\n",
    "ax = fig2.add_subplot(111, projection = \"3d\")\n",
    "ax.scatter(pca.components_[0], pca.components_[1], df_coefficients1[\"Bias\"])\n",
    "plt.savefig(out_dir / \"bias_on_principal_components.png\")"
   ]
  },
  {
   "cell_type": "markdown",
   "id": "7aa81e1d-76ac-411c-92db-aba2facd38e8",
   "metadata": {},
   "source": [
    "# Linear regressor"
   ]
  },
  {
   "cell_type": "code",
   "execution_count": null,
   "id": "2fd9e109-95a4-4b8a-b5b2-dfa1a0e74236",
   "metadata": {},
   "outputs": [],
   "source": [
    "features_and_entities = df_of_features\n",
    "features_and_entities.loc[:, \"Entity\"] = data_max[\"Entity\"] \n",
    "merged_df_2 = pd.merge(df_coefficients, features_and_entities, on = [\"Entity\"])\n",
    "\n",
    "merged_df_2"
   ]
  },
  {
   "cell_type": "code",
   "execution_count": null,
   "id": "52a56dd9-f8d3-4fb3-9e31-652cf2523340",
   "metadata": {},
   "outputs": [],
   "source": [
    "#train_df = merged_df_2.loc[list(range(6))]\n",
    "train_df = merged_df_2.loc[[0, 1, 3, 5, 6, 8]]\n",
    "train_df"
   ]
  },
  {
   "cell_type": "code",
   "execution_count": null,
   "id": "6f873266-35b6-43d4-bb18-775a84dfa680",
   "metadata": {},
   "outputs": [],
   "source": [
    "#test_df = merged_df_2.loc[list(range(6, 9))]\n",
    "test_df = merged_df_2.loc[[2, 4, 7]]\n",
    "test_df"
   ]
  },
  {
   "cell_type": "code",
   "execution_count": null,
   "id": "efd463e7-9dcc-4ab3-926a-d9f5e0e70b23",
   "metadata": {},
   "outputs": [],
   "source": [
    "train_df[feature_names]"
   ]
  },
  {
   "cell_type": "code",
   "execution_count": null,
   "id": "be2b5587-09a8-4240-8f3d-97997b5de816",
   "metadata": {},
   "outputs": [],
   "source": [
    "train_array = np.array(train_df[feature_names])\n",
    "test_array = np.array(test_df[feature_names])"
   ]
  },
  {
   "cell_type": "code",
   "execution_count": null,
   "id": "a6f07928-14be-40ab-a26e-a41323cad4b5",
   "metadata": {},
   "outputs": [],
   "source": [
    "reg_tan = LinearRegression().fit(train_array, train_df[\"Tan\"])\n",
    "reg_tan.score(train_array, train_df[\"Tan\"])"
   ]
  },
  {
   "cell_type": "code",
   "execution_count": null,
   "id": "82196057-7c97-4354-8d22-4a022aefc64d",
   "metadata": {},
   "outputs": [],
   "source": [
    "reg_tan.coef_"
   ]
  },
  {
   "cell_type": "code",
   "execution_count": null,
   "id": "0764fcf1-4302-4aaa-8b84-c70975300e2b",
   "metadata": {},
   "outputs": [],
   "source": [
    "reg_tan.intercept_"
   ]
  },
  {
   "cell_type": "code",
   "execution_count": null,
   "id": "28e57bb2-b3f8-4da5-a4a1-edcb0734dcd6",
   "metadata": {},
   "outputs": [],
   "source": [
    "predicted_tans = reg_tan.predict(test_array)"
   ]
  },
  {
   "cell_type": "code",
   "execution_count": null,
   "id": "35b0a469-90ee-4fe9-bb43-178bb39ae4be",
   "metadata": {},
   "outputs": [],
   "source": [
    "test_df[[\"Entity\", \"Tan\"]]"
   ]
  },
  {
   "cell_type": "code",
   "execution_count": null,
   "id": "60f8d6ec-c01f-44af-b7b5-d4a5193924f7",
   "metadata": {},
   "outputs": [],
   "source": [
    "test_df"
   ]
  },
  {
   "cell_type": "code",
   "execution_count": null,
   "id": "aa4f2fa5-e5a9-4968-8733-2ed6e151e5a3",
   "metadata": {},
   "outputs": [],
   "source": [
    "reg_bias = LinearRegression().fit(train_array, train_df[\"Bias\"])"
   ]
  },
  {
   "cell_type": "code",
   "execution_count": null,
   "id": "f9eabcbb-5fcb-479b-b6fa-b7307c3949e5",
   "metadata": {},
   "outputs": [],
   "source": [
    "reg_bias.coef_"
   ]
  },
  {
   "cell_type": "code",
   "execution_count": null,
   "id": "9a4fcae4-6769-4f40-97e6-1ef89ad21275",
   "metadata": {},
   "outputs": [],
   "source": [
    "reg_bias.intercept_"
   ]
  },
  {
   "cell_type": "code",
   "execution_count": null,
   "id": "93b8999e-8cbe-4bcd-8804-2b340e01f977",
   "metadata": {},
   "outputs": [],
   "source": [
    "predicted_biases = reg_bias.predict(test_array)\n",
    "predicted_biases"
   ]
  },
  {
   "cell_type": "code",
   "execution_count": null,
   "id": "bc6661e3-a43a-4196-972c-0ee8609f74e8",
   "metadata": {},
   "outputs": [],
   "source": [
    "predicted_tans"
   ]
  },
  {
   "cell_type": "code",
   "execution_count": null,
   "id": "14670721-6e1c-4d67-ba31-55b613105e3d",
   "metadata": {},
   "outputs": [],
   "source": [
    "test_df[[\"Entity\", \"Bias\"]]"
   ]
  },
  {
   "cell_type": "code",
   "execution_count": null,
   "id": "b60cf941-f054-493d-854a-1f067656ca14",
   "metadata": {},
   "outputs": [],
   "source": [
    "linear_regression_coefficients_df = pd.DataFrame({'Tangent': reg_tan.coef_, 'Bias': reg_bias.coef_}, index = feature_names)\n",
    "\n",
    "linear_regression_coefficients_dfT = linear_regression_coefficients_df.T\n",
    "linear_regression_coefficients_dfT[\"intercept\"] = [reg_tan.intercept_, reg_bias.intercept_]\n",
    "linear_regression_coefficients_dfT.to_csv(out_dir / \"linear_regression_coefficients.csv\")"
   ]
  },
  {
   "cell_type": "code",
   "execution_count": null,
   "id": "69c41c5d-e7c2-41c1-9f7d-21527d0cdc9a",
   "metadata": {},
   "outputs": [],
   "source": [
    "metric_tan = sum((predicted_tans - test_df[\"Tan\"]) ** 2)\n",
    "metric_tan"
   ]
  },
  {
   "cell_type": "code",
   "execution_count": null,
   "id": "66e3cb28-b58f-4020-a4bf-7a055c36ff53",
   "metadata": {},
   "outputs": [],
   "source": [
    "metric_biases = sum((predicted_biases - test_df[\"Bias\"]) ** 2)\n",
    "metric_biases"
   ]
  },
  {
   "cell_type": "markdown",
   "id": "28c12361-d353-43d0-92bf-ebf177e1ce29",
   "metadata": {},
   "source": [
    "# Leave-one-out cross validation"
   ]
  },
  {
   "cell_type": "code",
   "execution_count": null,
   "id": "87d1a4bc-3ab6-4ae7-ae5f-53089eaff906",
   "metadata": {},
   "outputs": [],
   "source": [
    "def leave_one_out(df : pd.DataFrame) -> pd.DataFrame:\n",
    "    metric_tan = 0\n",
    "    metric_bias = 0\n",
    "    \n",
    "    metrics_tan = []\n",
    "    metrics_bias = []\n",
    "    \n",
    "    num_of_rows = len(df)\n",
    "    \n",
    "    for i in range(num_of_rows):\n",
    "        test_df = df.loc[[i]]\n",
    "        train_indices = list(range(num_of_rows))\n",
    "        train_indices.pop(i)\n",
    "        train_df = df.loc[train_indices]\n",
    "    \n",
    "        test_row = np.array(test_df[feature_names])\n",
    "        train_array = np.array(train_df[feature_names])\n",
    "    \n",
    "        reg_tan = LinearRegression().fit(train_array, train_df[\"Tan\"])\n",
    "        reg_bias = LinearRegression().fit(train_array, train_df[\"Bias\"])\n",
    "    \n",
    "        predicted_tan = reg_tan.predict(test_row)\n",
    "        predicted_bias = reg_bias.predict(test_row)\n",
    "    \n",
    "        metric_tan_i = (predicted_tan - test_df[\"Tan\"]) ** 2\n",
    "        metric_bias_i = (predicted_bias - test_df[\"Bias\"]) ** 2\n",
    "    \n",
    "        metrics_tan.append(metric_tan_i[i])\n",
    "        metrics_bias.append(metric_bias_i[i])\n",
    "    result = pd.DataFrame({\"Entity\": df[\"Entity\"]})\n",
    "    \n",
    "    result[\"metrics_loo_tan\"] = metrics_tan\n",
    "    result[\"metrics_loo_bias\"] = metrics_bias\n",
    "\n",
    "    return result\n",
    "    \n",
    "df_loo_res = leave_one_out(merged_df_2)\n",
    "df_loo_res"
   ]
  },
  {
   "cell_type": "code",
   "execution_count": null,
   "id": "eb0e7b95-f8ac-44bc-8ae9-4f420962c233",
   "metadata": {},
   "outputs": [],
   "source": [
    "def build_boxplot(df : pd.DataFrame) -> None:\n",
    "    _, axes = plt.subplots(nrows = 1, ncols = 2)\n",
    "    df.boxplot(column = \"metrics_loo_tan\", ax = axes[1])\n",
    "    df.boxplot(column = \"metrics_loo_bias\", ax = axes[0])\n",
    "    plt.suptitle(\"Boxplots for tan and bias\")\n",
    "    plt.tight_layout()\n",
    "    plt.show()"
   ]
  },
  {
   "cell_type": "code",
   "execution_count": null,
   "id": "21d704d5-b93c-4549-a4f3-6df5738b9a3d",
   "metadata": {},
   "outputs": [],
   "source": [
    "build_boxplot(df_loo_res)"
   ]
  },
  {
   "cell_type": "code",
   "execution_count": null,
   "id": "f7f31205-e3e8-4283-a80b-9a5fedcd5a28",
   "metadata": {},
   "outputs": [],
   "source": [
    "merged_df_no_US = merged_df_2.copy()\n",
    "merged_df_no_US = merged_df_no_US.drop(merged_df_no_US[merged_df_no_US[\"Entity\"] == \"United States\"].index)\n",
    "df_loo_res_no_US = leave_one_out(merged_df_no_US)\n",
    "df_loo_res_no_US"
   ]
  },
  {
   "cell_type": "code",
   "execution_count": null,
   "id": "f21fd537-8a97-4212-834b-8101a248b165",
   "metadata": {},
   "outputs": [],
   "source": [
    "build_boxplot(df_loo_res_no_US)"
   ]
  }
 ],
 "metadata": {
  "kernelspec": {
   "display_name": "Python 3 (ipykernel)",
   "language": "python",
   "name": "python3"
  },
  "language_info": {
   "codemirror_mode": {
    "name": "ipython",
    "version": 3
   },
   "file_extension": ".py",
   "mimetype": "text/x-python",
   "name": "python",
   "nbconvert_exporter": "python",
   "pygments_lexer": "ipython3",
   "version": "3.9.16"
  }
 },
 "nbformat": 4,
 "nbformat_minor": 5
}
