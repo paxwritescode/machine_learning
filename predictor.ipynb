{
 "cells": [
  {
   "cell_type": "code",
   "execution_count": null,
   "id": "04038d1a-9465-4665-8963-26f2e5e33743",
   "metadata": {},
   "outputs": [],
   "source": [
    "import pandas as pd\n",
    "import seaborn as sns\n",
    "import matplotlib.pyplot as plt\n",
    "from pathlib import Path"
   ]
  },
  {
   "cell_type": "code",
   "execution_count": null,
   "id": "e577fdca-0d3f-4741-9905-d327f0652c96",
   "metadata": {},
   "outputs": [],
   "source": [
    "out_dir = Path(\"output\")\n",
    "out_dir.exists()"
   ]
  },
  {
   "cell_type": "code",
   "execution_count": null,
   "id": "337731cd-ae8d-4d9b-9c25-9cb0f8fbb2b4",
   "metadata": {},
   "outputs": [],
   "source": [
    "data = pd.read_csv(out_dir / \"data_merged.csv\")\n",
    "len(np.unique(data[\"Entity\"]))"
   ]
  },
  {
   "cell_type": "code",
   "execution_count": null,
   "id": "37ad9b0e-a95e-4cfc-99dd-7923160b1def",
   "metadata": {},
   "outputs": [],
   "source": [
    "#data_entities = data_countries_filtered_3.groupby([\"Entity\", \"Year\"]).sum().reset_index()\n",
    "data_max = data.groupby(\"Entity\").max().reset_index()"
   ]
  },
  {
   "cell_type": "code",
   "execution_count": null,
   "id": "e08475e0-d90e-49a2-b71d-35d9782ba4f2",
   "metadata": {},
   "outputs": [],
   "source": [
    "data_max[[\"Population\", \"GDP\"]]"
   ]
  },
  {
   "cell_type": "code",
   "execution_count": null,
   "id": "70b0bcb4-fbdb-4577-a1ac-fde735ef9932",
   "metadata": {},
   "outputs": [],
   "source": [
    "g1 = sns.PairGrid(data_max, vars = [\"Export\", \"Import\", \"Net Trade\", \"GDP\", \"Population\"])\n",
    "g1.map_diag(sns.histplot)\n",
    "g1.map_offdiag(sns.scatterplot)"
   ]
  },
  {
   "cell_type": "markdown",
   "id": "5c5ce0c8-3fc1-4f61-a9a9-ff1fdf830188",
   "metadata": {},
   "source": [
    "export and import are correlated"
   ]
  },
  {
   "cell_type": "code",
   "execution_count": null,
   "id": "9d967a6c-717d-4bf1-b508-f266961e89c1",
   "metadata": {},
   "outputs": [],
   "source": [
    "g2 = sns.PairGrid(data_max, vars = [\"Education Expenditure\", \"Health Expenditure\",  \"R&D\", \"GDP\"])\n",
    "g2.map_diag(sns.histplot)\n",
    "g2.map_offdiag(sns.scatterplot)"
   ]
  },
  {
   "cell_type": "code",
   "execution_count": null,
   "id": "a7f4dde1-901c-4275-b4f9-d2a255490893",
   "metadata": {},
   "outputs": [],
   "source": [
    "df_of_features = data_max[[\"GDP\", \"R&D\", \"Population\", \"Land\", \"Export\", \"Education Expenditure\", \"Health Expenditure\", \"Net Trade\"]]\n",
    "normalized_features=(df_of_features - df_of_features.mean())/df_of_features.std()\n",
    "np.array(normalized_features)"
   ]
  },
  {
   "cell_type": "code",
   "execution_count": null,
   "id": "374d75f8-a8f6-4f52-b2ee-ac523f7f8418",
   "metadata": {},
   "outputs": [],
   "source": [
    "pip install -U scikit-learn"
   ]
  },
  {
   "cell_type": "code",
   "execution_count": null,
   "id": "480eba9c-e7f2-4aaf-ac72-00d0dc44d79e",
   "metadata": {},
   "outputs": [],
   "source": [
    "import numpy as np\n",
    "from sklearn.decomposition import PCA\n",
    "array_of_normalized_features = np.array(normalized_features)\n",
    "pca = PCA(n_components=2)\n",
    "pca.fit(array_of_normalized_features.T)\n",
    "print(pca.explained_variance_ratio_)\n",
    "print(pca.singular_values_)"
   ]
  },
  {
   "cell_type": "code",
   "execution_count": null,
   "id": "68d48dd6-fe78-4eed-a199-36f58e0c7056",
   "metadata": {},
   "outputs": [],
   "source": [
    "array_of_normalized_features.T"
   ]
  },
  {
   "cell_type": "code",
   "execution_count": null,
   "id": "72930da9-c64d-4a2a-9511-9c7ec9ea6120",
   "metadata": {},
   "outputs": [],
   "source": [
    "pca.components_"
   ]
  },
  {
   "cell_type": "code",
   "execution_count": null,
   "id": "767b3984-9754-4560-8d55-803ad89173b8",
   "metadata": {},
   "outputs": [],
   "source": [
    "plt.scatter(pca.components_[0], pca.components_[1])\n",
    "for i, txt in enumerate(data_max[\"Entity\"]):\n",
    "    ax.annotate(txt, (pca.components_[0][i], pca.components_[1][i]))\n",
    "plt.savefig(out_dir / \"principal_components.png\")\n",
    "#TODO dots labels"
   ]
  },
  {
   "cell_type": "code",
   "execution_count": null,
   "id": "7401e673-76fa-4871-bce0-2cacc677f10f",
   "metadata": {},
   "outputs": [],
   "source": [
    "df_coefficients = pd.read_csv(out_dir / \"coefficients.csv\")\n",
    "del df_coefficients[\"Unnamed: 0\"]\n",
    "df_coefficients1 = df_coefficients.drop(labels = [9], axis = 0)\n",
    "df_coefficients1"
   ]
  },
  {
   "cell_type": "code",
   "execution_count": null,
   "id": "4bbd62d5-e984-4356-b930-b3afe084cbf5",
   "metadata": {},
   "outputs": [],
   "source": [
    "fig1 = plt.figure()\n",
    "ax = fig1.add_subplot(111, projection = \"3d\")\n",
    "ax.scatter(pca.components_[0], pca.components_[1], df_coefficients1[\"Tan\"])\n",
    "plt.savefig(out_dir / \"tangent_on_principal_components.png\")"
   ]
  },
  {
   "cell_type": "code",
   "execution_count": null,
   "id": "f41d0bc5-5ec7-4326-a6d0-55515fafe4a6",
   "metadata": {},
   "outputs": [],
   "source": [
    "fig2 = plt.figure()\n",
    "ax = fig2.add_subplot(111, projection = \"3d\")\n",
    "ax.scatter(pca.components_[0], pca.components_[1], df_coefficients1[\"Bias\"])\n",
    "plt.savefig(out_dir / \"bias_on_principal_components.png\")"
   ]
  }
 ],
 "metadata": {
  "kernelspec": {
   "display_name": "Python 3 (ipykernel)",
   "language": "python",
   "name": "python3"
  },
  "language_info": {
   "codemirror_mode": {
    "name": "ipython",
    "version": 3
   },
   "file_extension": ".py",
   "mimetype": "text/x-python",
   "name": "python",
   "nbconvert_exporter": "python",
   "pygments_lexer": "ipython3",
   "version": "3.9.16"
  }
 },
 "nbformat": 4,
 "nbformat_minor": 5
}
